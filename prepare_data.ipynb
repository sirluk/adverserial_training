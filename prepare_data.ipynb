{
 "cells": [
  {
   "cell_type": "code",
   "execution_count": null,
   "metadata": {},
   "outputs": [],
   "source": [
    "# Instructions how to generate bios dataset can be found in this repository\n",
    "# https://github.com/Microsoft/biosbias"
   ]
  },
  {
   "cell_type": "code",
   "execution_count": null,
   "metadata": {},
   "outputs": [],
   "source": [
    "import pickle\n",
    "import shutil\n",
    "from pathlib import Path\n",
    "import numpy as np\n",
    "from collections import Counter"
   ]
  },
  {
   "cell_type": "code",
   "execution_count": null,
   "metadata": {},
   "outputs": [],
   "source": [
    "### Configure manually ###\n",
    "\n",
    "bios_pkl_path = \"/share/cp/datasets/nlp/text_classification_bias/bios/BIOS.pkl\" # path to BIOS.pkl. Instructions how to generate see above\n",
    "\n",
    "val_size = 0.2\n",
    "test_size = 0.25\n",
    "\n",
    "seed = 0\n",
    "\n",
    "##########################"
   ]
  },
  {
   "cell_type": "code",
   "execution_count": null,
   "metadata": {},
   "outputs": [],
   "source": [
    "rng = np.random.default_rng(seed)"
   ]
  },
  {
   "cell_type": "code",
   "execution_count": null,
   "metadata": {},
   "outputs": [],
   "source": [
    "data_folder = Path(\"data\")\n",
    "data_folder.mkdir(exist_ok=True)\n",
    "shutil.copyfile(bios_pkl_path, data_folder / \"BIOS.pkl\")"
   ]
  },
  {
   "cell_type": "code",
   "execution_count": null,
   "metadata": {},
   "outputs": [],
   "source": [
    "with open(data_folder / \"BIOS.pkl\", \"rb\") as f:\n",
    "    bios_dicts = pickle.load(f)"
   ]
  },
  {
   "cell_type": "code",
   "execution_count": null,
   "metadata": {},
   "outputs": [],
   "source": [
    "combs = [(x[\"title\"], x[\"gender\"]) for x in bios_dicts]\n",
    "titles, genders = [set(x) for x in zip(*combs)]"
   ]
  },
  {
   "cell_type": "code",
   "execution_count": null,
   "metadata": {},
   "outputs": [],
   "source": [
    "title_dict = {}\n",
    "title_idx = {}\n",
    "for i, (title, gender) in enumerate(combs):\n",
    "    try:\n",
    "        title_dict[title].append(gender)\n",
    "        title_idx[title].append(i)\n",
    "    except KeyError:\n",
    "        title_dict[title] = [gender]\n",
    "        title_idx[title] = [i]"
   ]
  },
  {
   "cell_type": "code",
   "execution_count": null,
   "metadata": {},
   "outputs": [],
   "source": [
    "for t, g in title_dict.items():\n",
    "    print(f\"{t}:\\n{Counter(g)}\")"
   ]
  },
  {
   "cell_type": "code",
   "execution_count": null,
   "metadata": {},
   "outputs": [],
   "source": [
    "idx_list = []\n",
    "for title, indices in title_idx.items():\n",
    "    idx_val = int(len(indices) * val_size)\n",
    "    idx_test = int(len(indices) * test_size)\n",
    "    x = rng.permutation(np.array(indices))\n",
    "    idx_list.append(np.split(x, [idx_val, idx_test+idx_val]))\n",
    "val, test, train = [[bios_dicts[i] for i in np.concatenate(x)] for x in zip(*idx_list)]"
   ]
  },
  {
   "cell_type": "code",
   "execution_count": null,
   "metadata": {},
   "outputs": [],
   "source": [
    "split_counts = []\n",
    "for l in [val, test, train]:\n",
    "    tg = {}\n",
    "    for d in l:\n",
    "        try:\n",
    "            tg[d[\"title\"]].append(d[\"gender\"])\n",
    "        except KeyError:\n",
    "            tg[d[\"title\"]] = [d[\"gender\"]]\n",
    "    split_counts.append({t:dict(Counter(x)) for t,x in tg.items()})"
   ]
  },
  {
   "cell_type": "code",
   "execution_count": null,
   "metadata": {},
   "outputs": [],
   "source": [
    "for title in titles:\n",
    "    print(title)\n",
    "    for i in range(3):\n",
    "        print(split_counts[i][title])"
   ]
  },
  {
   "cell_type": "code",
   "execution_count": null,
   "metadata": {},
   "outputs": [],
   "source": [
    "train_counts = split_counts[2]\n",
    "add_samples = []\n",
    "for title in titles:\n",
    "    title_samples = [x for x in train if x[\"title\"]==title]\n",
    "    title_counts = train_counts[title]\n",
    "    max_val = max(title_counts.values())\n",
    "    n_samples_to_add = {g:max_val-v for g,v in title_counts.items()}\n",
    "    for g, add in n_samples_to_add.items():\n",
    "        all_samples = [x for x in title_samples if x[\"gender\"]==g]\n",
    "        while add>title_counts[g]:\n",
    "            add_samples.extend(all_samples)\n",
    "            add -= title_counts[g]\n",
    "        add_samples.extend(\n",
    "            [all_samples[i] for i in rng.permutation(np.arange(len(all_samples)))[:add]]\n",
    "        )\n",
    "train_balanced = train + add_samples"
   ]
  },
  {
   "cell_type": "code",
   "execution_count": null,
   "metadata": {},
   "outputs": [],
   "source": [
    "for ds in [\"train\", \"train_balanced\", \"val\", \"test\"]:\n",
    "    with open(data_folder / f'{ds}.pkl', 'wb') as f:\n",
    "        pickle.dump(eval(ds), f)"
   ]
  },
  {
   "cell_type": "code",
   "execution_count": null,
   "metadata": {},
   "outputs": [],
   "source": [
    "with open(data_folder / \"labels_task.txt\", \"w\") as f:\n",
    "    for title in titles:\n",
    "        f.write(title + \"\\n\")"
   ]
  },
  {
   "cell_type": "code",
   "execution_count": null,
   "metadata": {},
   "outputs": [],
   "source": [
    "with open(data_folder / \"labels_protected_gender.txt\", \"w\") as f:\n",
    "    for gender in genders:\n",
    "        f.write(gender + \"\\n\")"
   ]
  },
  {
   "cell_type": "code",
   "execution_count": null,
   "metadata": {},
   "outputs": [],
   "source": []
  }
 ],
 "metadata": {
  "kernelspec": {
   "display_name": "Python 3.9.12 ('testenv')",
   "language": "python",
   "name": "python3"
  },
  "language_info": {
   "codemirror_mode": {
    "name": "ipython",
    "version": 3
   },
   "file_extension": ".py",
   "mimetype": "text/x-python",
   "name": "python",
   "nbconvert_exporter": "python",
   "pygments_lexer": "ipython3",
   "version": "3.9.12"
  },
  "orig_nbformat": 4,
  "vscode": {
   "interpreter": {
    "hash": "44fd53a9831942cc7290b70e18d76362301b009d310fe9edb8a5f7b8f5560d5f"
   }
  }
 },
 "nbformat": 4,
 "nbformat_minor": 2
}
